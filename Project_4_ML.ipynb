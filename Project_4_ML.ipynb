{
  "cells": [
    {
      "cell_type": "markdown",
      "id": "c353de9a",
      "metadata": {
        "id": "c353de9a"
      },
      "source": [
        "# Проект: классификация"
      ]
    },
    {
      "cell_type": "code",
      "execution_count": 496,
      "id": "4a6e54dc",
      "metadata": {
        "id": "4a6e54dc"
      },
      "outputs": [],
      "source": [
        "import pandas as pd\n",
        "import numpy as np\n",
        "import matplotlib.pyplot as plt\n",
        "import seaborn as sns\n",
        "from  sklearn.ensemble import IsolationForest\n",
        "import warnings\n",
        "warnings.filterwarnings('ignore')\n",
        "from sklearn.preprocessing  import LabelEncoder\n",
        "from sklearn import linear_model\n",
        "from sklearn import tree\n",
        "from sklearn import ensemble\n",
        "from sklearn import metrics\n",
        "from sklearn import preprocessing\n",
        "from sklearn.model_selection import train_test_split\n",
        "from sklearn.feature_selection import SelectKBest, f_classif"
      ]
    },
    {
      "cell_type": "markdown",
      "id": "71559b60",
      "metadata": {
        "id": "71559b60"
      },
      "source": [
        "## Часть 1. Знакомство с данными, обработка пропусков и выбросов"
      ]
    },
    {
      "cell_type": "markdown",
      "id": "7c5e31b2",
      "metadata": {
        "id": "7c5e31b2"
      },
      "source": [
        "### Задание 1"
      ]
    },
    {
      "cell_type": "code",
      "execution_count": 497,
      "id": "20730cd7",
      "metadata": {
        "id": "20730cd7"
      },
      "outputs": [],
      "source": [
        "df = pd.read_csv('data/bank_fin.csv', sep = ';')"
      ]
    },
    {
      "cell_type": "code",
      "execution_count": 498,
      "id": "ba11dc67",
      "metadata": {
        "colab": {
          "base_uri": "https://localhost:8080/",
          "height": 743
        },
        "id": "ba11dc67",
        "outputId": "15f8da0a-d8c1-4223-e218-8d0fb71afb37"
      },
      "outputs": [
        {
          "output_type": "display_data",
          "data": {
            "text/plain": [
              "       age          job  marital  education default     balance housing loan  \\\n",
              "6936    42   management  married   tertiary      no       0  $       no   no   \n",
              "10707   34     services  married  secondary      no    24,00 $      yes   no   \n",
              "7630    32  blue-collar  married  secondary      no   328,00 $      yes   no   \n",
              "\n",
              "        contact  day month  duration  campaign  pdays  previous poutcome  \\\n",
              "6936   cellular   13   aug       325         2     -1         0  unknown   \n",
              "10707   unknown   28   may       124         1     -1         0  unknown   \n",
              "7630    unknown   20   may       132         1     -1         0  unknown   \n",
              "\n",
              "      deposit  \n",
              "6936       no  \n",
              "10707      no  \n",
              "7630       no  "
            ],
            "text/html": [
              "\n",
              "  <div id=\"df-2f72db8f-80b6-46cc-8f3a-0c3fe06a8963\" class=\"colab-df-container\">\n",
              "    <div>\n",
              "<style scoped>\n",
              "    .dataframe tbody tr th:only-of-type {\n",
              "        vertical-align: middle;\n",
              "    }\n",
              "\n",
              "    .dataframe tbody tr th {\n",
              "        vertical-align: top;\n",
              "    }\n",
              "\n",
              "    .dataframe thead th {\n",
              "        text-align: right;\n",
              "    }\n",
              "</style>\n",
              "<table border=\"1\" class=\"dataframe\">\n",
              "  <thead>\n",
              "    <tr style=\"text-align: right;\">\n",
              "      <th></th>\n",
              "      <th>age</th>\n",
              "      <th>job</th>\n",
              "      <th>marital</th>\n",
              "      <th>education</th>\n",
              "      <th>default</th>\n",
              "      <th>balance</th>\n",
              "      <th>housing</th>\n",
              "      <th>loan</th>\n",
              "      <th>contact</th>\n",
              "      <th>day</th>\n",
              "      <th>month</th>\n",
              "      <th>duration</th>\n",
              "      <th>campaign</th>\n",
              "      <th>pdays</th>\n",
              "      <th>previous</th>\n",
              "      <th>poutcome</th>\n",
              "      <th>deposit</th>\n",
              "    </tr>\n",
              "  </thead>\n",
              "  <tbody>\n",
              "    <tr>\n",
              "      <th>6936</th>\n",
              "      <td>42</td>\n",
              "      <td>management</td>\n",
              "      <td>married</td>\n",
              "      <td>tertiary</td>\n",
              "      <td>no</td>\n",
              "      <td>0  $</td>\n",
              "      <td>no</td>\n",
              "      <td>no</td>\n",
              "      <td>cellular</td>\n",
              "      <td>13</td>\n",
              "      <td>aug</td>\n",
              "      <td>325</td>\n",
              "      <td>2</td>\n",
              "      <td>-1</td>\n",
              "      <td>0</td>\n",
              "      <td>unknown</td>\n",
              "      <td>no</td>\n",
              "    </tr>\n",
              "    <tr>\n",
              "      <th>10707</th>\n",
              "      <td>34</td>\n",
              "      <td>services</td>\n",
              "      <td>married</td>\n",
              "      <td>secondary</td>\n",
              "      <td>no</td>\n",
              "      <td>24,00 $</td>\n",
              "      <td>yes</td>\n",
              "      <td>no</td>\n",
              "      <td>unknown</td>\n",
              "      <td>28</td>\n",
              "      <td>may</td>\n",
              "      <td>124</td>\n",
              "      <td>1</td>\n",
              "      <td>-1</td>\n",
              "      <td>0</td>\n",
              "      <td>unknown</td>\n",
              "      <td>no</td>\n",
              "    </tr>\n",
              "    <tr>\n",
              "      <th>7630</th>\n",
              "      <td>32</td>\n",
              "      <td>blue-collar</td>\n",
              "      <td>married</td>\n",
              "      <td>secondary</td>\n",
              "      <td>no</td>\n",
              "      <td>328,00 $</td>\n",
              "      <td>yes</td>\n",
              "      <td>no</td>\n",
              "      <td>unknown</td>\n",
              "      <td>20</td>\n",
              "      <td>may</td>\n",
              "      <td>132</td>\n",
              "      <td>1</td>\n",
              "      <td>-1</td>\n",
              "      <td>0</td>\n",
              "      <td>unknown</td>\n",
              "      <td>no</td>\n",
              "    </tr>\n",
              "  </tbody>\n",
              "</table>\n",
              "</div>\n",
              "    <div class=\"colab-df-buttons\">\n",
              "\n",
              "  <div class=\"colab-df-container\">\n",
              "    <button class=\"colab-df-convert\" onclick=\"convertToInteractive('df-2f72db8f-80b6-46cc-8f3a-0c3fe06a8963')\"\n",
              "            title=\"Convert this dataframe to an interactive table.\"\n",
              "            style=\"display:none;\">\n",
              "\n",
              "  <svg xmlns=\"http://www.w3.org/2000/svg\" height=\"24px\" viewBox=\"0 -960 960 960\">\n",
              "    <path d=\"M120-120v-720h720v720H120Zm60-500h600v-160H180v160Zm220 220h160v-160H400v160Zm0 220h160v-160H400v160ZM180-400h160v-160H180v160Zm440 0h160v-160H620v160ZM180-180h160v-160H180v160Zm440 0h160v-160H620v160Z\"/>\n",
              "  </svg>\n",
              "    </button>\n",
              "\n",
              "  <style>\n",
              "    .colab-df-container {\n",
              "      display:flex;\n",
              "      gap: 12px;\n",
              "    }\n",
              "\n",
              "    .colab-df-convert {\n",
              "      background-color: #E8F0FE;\n",
              "      border: none;\n",
              "      border-radius: 50%;\n",
              "      cursor: pointer;\n",
              "      display: none;\n",
              "      fill: #1967D2;\n",
              "      height: 32px;\n",
              "      padding: 0 0 0 0;\n",
              "      width: 32px;\n",
              "    }\n",
              "\n",
              "    .colab-df-convert:hover {\n",
              "      background-color: #E2EBFA;\n",
              "      box-shadow: 0px 1px 2px rgba(60, 64, 67, 0.3), 0px 1px 3px 1px rgba(60, 64, 67, 0.15);\n",
              "      fill: #174EA6;\n",
              "    }\n",
              "\n",
              "    .colab-df-buttons div {\n",
              "      margin-bottom: 4px;\n",
              "    }\n",
              "\n",
              "    [theme=dark] .colab-df-convert {\n",
              "      background-color: #3B4455;\n",
              "      fill: #D2E3FC;\n",
              "    }\n",
              "\n",
              "    [theme=dark] .colab-df-convert:hover {\n",
              "      background-color: #434B5C;\n",
              "      box-shadow: 0px 1px 3px 1px rgba(0, 0, 0, 0.15);\n",
              "      filter: drop-shadow(0px 1px 2px rgba(0, 0, 0, 0.3));\n",
              "      fill: #FFFFFF;\n",
              "    }\n",
              "  </style>\n",
              "\n",
              "    <script>\n",
              "      const buttonEl =\n",
              "        document.querySelector('#df-2f72db8f-80b6-46cc-8f3a-0c3fe06a8963 button.colab-df-convert');\n",
              "      buttonEl.style.display =\n",
              "        google.colab.kernel.accessAllowed ? 'block' : 'none';\n",
              "\n",
              "      async function convertToInteractive(key) {\n",
              "        const element = document.querySelector('#df-2f72db8f-80b6-46cc-8f3a-0c3fe06a8963');\n",
              "        const dataTable =\n",
              "          await google.colab.kernel.invokeFunction('convertToInteractive',\n",
              "                                                    [key], {});\n",
              "        if (!dataTable) return;\n",
              "\n",
              "        const docLinkHtml = 'Like what you see? Visit the ' +\n",
              "          '<a target=\"_blank\" href=https://colab.research.google.com/notebooks/data_table.ipynb>data table notebook</a>'\n",
              "          + ' to learn more about interactive tables.';\n",
              "        element.innerHTML = '';\n",
              "        dataTable['output_type'] = 'display_data';\n",
              "        await google.colab.output.renderOutput(dataTable, element);\n",
              "        const docLink = document.createElement('div');\n",
              "        docLink.innerHTML = docLinkHtml;\n",
              "        element.appendChild(docLink);\n",
              "      }\n",
              "    </script>\n",
              "  </div>\n",
              "\n",
              "\n",
              "    <div id=\"df-cc39a974-bba9-4a05-bea0-a9f785fe72eb\">\n",
              "      <button class=\"colab-df-quickchart\" onclick=\"quickchart('df-cc39a974-bba9-4a05-bea0-a9f785fe72eb')\"\n",
              "                title=\"Suggest charts\"\n",
              "                style=\"display:none;\">\n",
              "\n",
              "<svg xmlns=\"http://www.w3.org/2000/svg\" height=\"24px\"viewBox=\"0 0 24 24\"\n",
              "     width=\"24px\">\n",
              "    <g>\n",
              "        <path d=\"M19 3H5c-1.1 0-2 .9-2 2v14c0 1.1.9 2 2 2h14c1.1 0 2-.9 2-2V5c0-1.1-.9-2-2-2zM9 17H7v-7h2v7zm4 0h-2V7h2v10zm4 0h-2v-4h2v4z\"/>\n",
              "    </g>\n",
              "</svg>\n",
              "      </button>\n",
              "\n",
              "<style>\n",
              "  .colab-df-quickchart {\n",
              "      --bg-color: #E8F0FE;\n",
              "      --fill-color: #1967D2;\n",
              "      --hover-bg-color: #E2EBFA;\n",
              "      --hover-fill-color: #174EA6;\n",
              "      --disabled-fill-color: #AAA;\n",
              "      --disabled-bg-color: #DDD;\n",
              "  }\n",
              "\n",
              "  [theme=dark] .colab-df-quickchart {\n",
              "      --bg-color: #3B4455;\n",
              "      --fill-color: #D2E3FC;\n",
              "      --hover-bg-color: #434B5C;\n",
              "      --hover-fill-color: #FFFFFF;\n",
              "      --disabled-bg-color: #3B4455;\n",
              "      --disabled-fill-color: #666;\n",
              "  }\n",
              "\n",
              "  .colab-df-quickchart {\n",
              "    background-color: var(--bg-color);\n",
              "    border: none;\n",
              "    border-radius: 50%;\n",
              "    cursor: pointer;\n",
              "    display: none;\n",
              "    fill: var(--fill-color);\n",
              "    height: 32px;\n",
              "    padding: 0;\n",
              "    width: 32px;\n",
              "  }\n",
              "\n",
              "  .colab-df-quickchart:hover {\n",
              "    background-color: var(--hover-bg-color);\n",
              "    box-shadow: 0 1px 2px rgba(60, 64, 67, 0.3), 0 1px 3px 1px rgba(60, 64, 67, 0.15);\n",
              "    fill: var(--button-hover-fill-color);\n",
              "  }\n",
              "\n",
              "  .colab-df-quickchart-complete:disabled,\n",
              "  .colab-df-quickchart-complete:disabled:hover {\n",
              "    background-color: var(--disabled-bg-color);\n",
              "    fill: var(--disabled-fill-color);\n",
              "    box-shadow: none;\n",
              "  }\n",
              "\n",
              "  .colab-df-spinner {\n",
              "    border: 2px solid var(--fill-color);\n",
              "    border-color: transparent;\n",
              "    border-bottom-color: var(--fill-color);\n",
              "    animation:\n",
              "      spin 1s steps(1) infinite;\n",
              "  }\n",
              "\n",
              "  @keyframes spin {\n",
              "    0% {\n",
              "      border-color: transparent;\n",
              "      border-bottom-color: var(--fill-color);\n",
              "      border-left-color: var(--fill-color);\n",
              "    }\n",
              "    20% {\n",
              "      border-color: transparent;\n",
              "      border-left-color: var(--fill-color);\n",
              "      border-top-color: var(--fill-color);\n",
              "    }\n",
              "    30% {\n",
              "      border-color: transparent;\n",
              "      border-left-color: var(--fill-color);\n",
              "      border-top-color: var(--fill-color);\n",
              "      border-right-color: var(--fill-color);\n",
              "    }\n",
              "    40% {\n",
              "      border-color: transparent;\n",
              "      border-right-color: var(--fill-color);\n",
              "      border-top-color: var(--fill-color);\n",
              "    }\n",
              "    60% {\n",
              "      border-color: transparent;\n",
              "      border-right-color: var(--fill-color);\n",
              "    }\n",
              "    80% {\n",
              "      border-color: transparent;\n",
              "      border-right-color: var(--fill-color);\n",
              "      border-bottom-color: var(--fill-color);\n",
              "    }\n",
              "    90% {\n",
              "      border-color: transparent;\n",
              "      border-bottom-color: var(--fill-color);\n",
              "    }\n",
              "  }\n",
              "</style>\n",
              "\n",
              "      <script>\n",
              "        async function quickchart(key) {\n",
              "          const quickchartButtonEl =\n",
              "            document.querySelector('#' + key + ' button');\n",
              "          quickchartButtonEl.disabled = true;  // To prevent multiple clicks.\n",
              "          quickchartButtonEl.classList.add('colab-df-spinner');\n",
              "          try {\n",
              "            const charts = await google.colab.kernel.invokeFunction(\n",
              "                'suggestCharts', [key], {});\n",
              "          } catch (error) {\n",
              "            console.error('Error during call to suggestCharts:', error);\n",
              "          }\n",
              "          quickchartButtonEl.classList.remove('colab-df-spinner');\n",
              "          quickchartButtonEl.classList.add('colab-df-quickchart-complete');\n",
              "        }\n",
              "        (() => {\n",
              "          let quickchartButtonEl =\n",
              "            document.querySelector('#df-cc39a974-bba9-4a05-bea0-a9f785fe72eb button');\n",
              "          quickchartButtonEl.style.display =\n",
              "            google.colab.kernel.accessAllowed ? 'block' : 'none';\n",
              "        })();\n",
              "      </script>\n",
              "    </div>\n",
              "\n",
              "    </div>\n",
              "  </div>\n"
            ],
            "application/vnd.google.colaboratory.intrinsic+json": {
              "type": "dataframe",
              "summary": "{\n  \"name\": \"df\",\n  \"rows\": 3,\n  \"fields\": [\n    {\n      \"column\": \"age\",\n      \"properties\": {\n        \"dtype\": \"number\",\n        \"std\": 5,\n        \"min\": 32,\n        \"max\": 42,\n        \"num_unique_values\": 3,\n        \"samples\": [\n          42,\n          34,\n          32\n        ],\n        \"semantic_type\": \"\",\n        \"description\": \"\"\n      }\n    },\n    {\n      \"column\": \"job\",\n      \"properties\": {\n        \"dtype\": \"string\",\n        \"num_unique_values\": 3,\n        \"samples\": [\n          \"management\",\n          \"services\",\n          \"blue-collar\"\n        ],\n        \"semantic_type\": \"\",\n        \"description\": \"\"\n      }\n    },\n    {\n      \"column\": \"marital\",\n      \"properties\": {\n        \"dtype\": \"category\",\n        \"num_unique_values\": 1,\n        \"samples\": [\n          \"married\"\n        ],\n        \"semantic_type\": \"\",\n        \"description\": \"\"\n      }\n    },\n    {\n      \"column\": \"education\",\n      \"properties\": {\n        \"dtype\": \"string\",\n        \"num_unique_values\": 2,\n        \"samples\": [\n          \"secondary\"\n        ],\n        \"semantic_type\": \"\",\n        \"description\": \"\"\n      }\n    },\n    {\n      \"column\": \"default\",\n      \"properties\": {\n        \"dtype\": \"category\",\n        \"num_unique_values\": 1,\n        \"samples\": [\n          \"no\"\n        ],\n        \"semantic_type\": \"\",\n        \"description\": \"\"\n      }\n    },\n    {\n      \"column\": \"balance\",\n      \"properties\": {\n        \"dtype\": \"string\",\n        \"num_unique_values\": 3,\n        \"samples\": [\n          \"0  $ \"\n        ],\n        \"semantic_type\": \"\",\n        \"description\": \"\"\n      }\n    },\n    {\n      \"column\": \"housing\",\n      \"properties\": {\n        \"dtype\": \"string\",\n        \"num_unique_values\": 2,\n        \"samples\": [\n          \"yes\"\n        ],\n        \"semantic_type\": \"\",\n        \"description\": \"\"\n      }\n    },\n    {\n      \"column\": \"loan\",\n      \"properties\": {\n        \"dtype\": \"category\",\n        \"num_unique_values\": 1,\n        \"samples\": [\n          \"no\"\n        ],\n        \"semantic_type\": \"\",\n        \"description\": \"\"\n      }\n    },\n    {\n      \"column\": \"contact\",\n      \"properties\": {\n        \"dtype\": \"string\",\n        \"num_unique_values\": 2,\n        \"samples\": [\n          \"unknown\"\n        ],\n        \"semantic_type\": \"\",\n        \"description\": \"\"\n      }\n    },\n    {\n      \"column\": \"day\",\n      \"properties\": {\n        \"dtype\": \"number\",\n        \"std\": 7,\n        \"min\": 13,\n        \"max\": 28,\n        \"num_unique_values\": 3,\n        \"samples\": [\n          13\n        ],\n        \"semantic_type\": \"\",\n        \"description\": \"\"\n      }\n    },\n    {\n      \"column\": \"month\",\n      \"properties\": {\n        \"dtype\": \"string\",\n        \"num_unique_values\": 2,\n        \"samples\": [\n          \"may\"\n        ],\n        \"semantic_type\": \"\",\n        \"description\": \"\"\n      }\n    },\n    {\n      \"column\": \"duration\",\n      \"properties\": {\n        \"dtype\": \"number\",\n        \"std\": 113,\n        \"min\": 124,\n        \"max\": 325,\n        \"num_unique_values\": 3,\n        \"samples\": [\n          325\n        ],\n        \"semantic_type\": \"\",\n        \"description\": \"\"\n      }\n    },\n    {\n      \"column\": \"campaign\",\n      \"properties\": {\n        \"dtype\": \"number\",\n        \"std\": 0,\n        \"min\": 1,\n        \"max\": 2,\n        \"num_unique_values\": 2,\n        \"samples\": [\n          1\n        ],\n        \"semantic_type\": \"\",\n        \"description\": \"\"\n      }\n    },\n    {\n      \"column\": \"pdays\",\n      \"properties\": {\n        \"dtype\": \"number\",\n        \"std\": 0,\n        \"min\": -1,\n        \"max\": -1,\n        \"num_unique_values\": 1,\n        \"samples\": [\n          -1\n        ],\n        \"semantic_type\": \"\",\n        \"description\": \"\"\n      }\n    },\n    {\n      \"column\": \"previous\",\n      \"properties\": {\n        \"dtype\": \"number\",\n        \"std\": 0,\n        \"min\": 0,\n        \"max\": 0,\n        \"num_unique_values\": 1,\n        \"samples\": [\n          0\n        ],\n        \"semantic_type\": \"\",\n        \"description\": \"\"\n      }\n    },\n    {\n      \"column\": \"poutcome\",\n      \"properties\": {\n        \"dtype\": \"category\",\n        \"num_unique_values\": 1,\n        \"samples\": [\n          \"unknown\"\n        ],\n        \"semantic_type\": \"\",\n        \"description\": \"\"\n      }\n    },\n    {\n      \"column\": \"deposit\",\n      \"properties\": {\n        \"dtype\": \"category\",\n        \"num_unique_values\": 1,\n        \"samples\": [\n          \"no\"\n        ],\n        \"semantic_type\": \"\",\n        \"description\": \"\"\n      }\n    }\n  ]\n}"
            }
          },
          "metadata": {}
        },
        {
          "output_type": "execute_result",
          "data": {
            "text/plain": [
              "age           0\n",
              "job           0\n",
              "marital       0\n",
              "education     0\n",
              "default       0\n",
              "balance      25\n",
              "housing       0\n",
              "loan          0\n",
              "contact       0\n",
              "day           0\n",
              "month         0\n",
              "duration      0\n",
              "campaign      0\n",
              "pdays         0\n",
              "previous      0\n",
              "poutcome      0\n",
              "deposit       0\n",
              "dtype: int64"
            ],
            "text/html": [
              "<div>\n",
              "<style scoped>\n",
              "    .dataframe tbody tr th:only-of-type {\n",
              "        vertical-align: middle;\n",
              "    }\n",
              "\n",
              "    .dataframe tbody tr th {\n",
              "        vertical-align: top;\n",
              "    }\n",
              "\n",
              "    .dataframe thead th {\n",
              "        text-align: right;\n",
              "    }\n",
              "</style>\n",
              "<table border=\"1\" class=\"dataframe\">\n",
              "  <thead>\n",
              "    <tr style=\"text-align: right;\">\n",
              "      <th></th>\n",
              "      <th>0</th>\n",
              "    </tr>\n",
              "  </thead>\n",
              "  <tbody>\n",
              "    <tr>\n",
              "      <th>age</th>\n",
              "      <td>0</td>\n",
              "    </tr>\n",
              "    <tr>\n",
              "      <th>job</th>\n",
              "      <td>0</td>\n",
              "    </tr>\n",
              "    <tr>\n",
              "      <th>marital</th>\n",
              "      <td>0</td>\n",
              "    </tr>\n",
              "    <tr>\n",
              "      <th>education</th>\n",
              "      <td>0</td>\n",
              "    </tr>\n",
              "    <tr>\n",
              "      <th>default</th>\n",
              "      <td>0</td>\n",
              "    </tr>\n",
              "    <tr>\n",
              "      <th>balance</th>\n",
              "      <td>25</td>\n",
              "    </tr>\n",
              "    <tr>\n",
              "      <th>housing</th>\n",
              "      <td>0</td>\n",
              "    </tr>\n",
              "    <tr>\n",
              "      <th>loan</th>\n",
              "      <td>0</td>\n",
              "    </tr>\n",
              "    <tr>\n",
              "      <th>contact</th>\n",
              "      <td>0</td>\n",
              "    </tr>\n",
              "    <tr>\n",
              "      <th>day</th>\n",
              "      <td>0</td>\n",
              "    </tr>\n",
              "    <tr>\n",
              "      <th>month</th>\n",
              "      <td>0</td>\n",
              "    </tr>\n",
              "    <tr>\n",
              "      <th>duration</th>\n",
              "      <td>0</td>\n",
              "    </tr>\n",
              "    <tr>\n",
              "      <th>campaign</th>\n",
              "      <td>0</td>\n",
              "    </tr>\n",
              "    <tr>\n",
              "      <th>pdays</th>\n",
              "      <td>0</td>\n",
              "    </tr>\n",
              "    <tr>\n",
              "      <th>previous</th>\n",
              "      <td>0</td>\n",
              "    </tr>\n",
              "    <tr>\n",
              "      <th>poutcome</th>\n",
              "      <td>0</td>\n",
              "    </tr>\n",
              "    <tr>\n",
              "      <th>deposit</th>\n",
              "      <td>0</td>\n",
              "    </tr>\n",
              "  </tbody>\n",
              "</table>\n",
              "</div><br><label><b>dtype:</b> int64</label>"
            ]
          },
          "metadata": {},
          "execution_count": 498
        }
      ],
      "source": [
        "# исследуйте данные на предмет пропусков. Где есть пропущенные значения? Сколько их?\n",
        "\n",
        "display(df.sample(3))\n",
        "df.isnull().sum()"
      ]
    },
    {
      "cell_type": "markdown",
      "id": "6366f059",
      "metadata": {
        "id": "6366f059"
      },
      "source": [
        "### Задание 2"
      ]
    },
    {
      "cell_type": "code",
      "execution_count": 499,
      "id": "98ea29d4",
      "metadata": {
        "colab": {
          "base_uri": "https://localhost:8080/",
          "height": 491
        },
        "id": "98ea29d4",
        "outputId": "0f66c477-c2f0-4a39-c90e-ffaed719df8a"
      },
      "outputs": [
        {
          "output_type": "execute_result",
          "data": {
            "text/plain": [
              "job\n",
              "management       2566\n",
              "blue-collar      1944\n",
              "technician       1823\n",
              "admin.           1334\n",
              "services          923\n",
              "retired           778\n",
              "self-employed     405\n",
              "student           360\n",
              "unemployed        357\n",
              "entrepreneur      328\n",
              "housemaid         274\n",
              "unknown            70\n",
              "Name: count, dtype: int64"
            ],
            "text/html": [
              "<div>\n",
              "<style scoped>\n",
              "    .dataframe tbody tr th:only-of-type {\n",
              "        vertical-align: middle;\n",
              "    }\n",
              "\n",
              "    .dataframe tbody tr th {\n",
              "        vertical-align: top;\n",
              "    }\n",
              "\n",
              "    .dataframe thead th {\n",
              "        text-align: right;\n",
              "    }\n",
              "</style>\n",
              "<table border=\"1\" class=\"dataframe\">\n",
              "  <thead>\n",
              "    <tr style=\"text-align: right;\">\n",
              "      <th></th>\n",
              "      <th>count</th>\n",
              "    </tr>\n",
              "    <tr>\n",
              "      <th>job</th>\n",
              "      <th></th>\n",
              "    </tr>\n",
              "  </thead>\n",
              "  <tbody>\n",
              "    <tr>\n",
              "      <th>management</th>\n",
              "      <td>2566</td>\n",
              "    </tr>\n",
              "    <tr>\n",
              "      <th>blue-collar</th>\n",
              "      <td>1944</td>\n",
              "    </tr>\n",
              "    <tr>\n",
              "      <th>technician</th>\n",
              "      <td>1823</td>\n",
              "    </tr>\n",
              "    <tr>\n",
              "      <th>admin.</th>\n",
              "      <td>1334</td>\n",
              "    </tr>\n",
              "    <tr>\n",
              "      <th>services</th>\n",
              "      <td>923</td>\n",
              "    </tr>\n",
              "    <tr>\n",
              "      <th>retired</th>\n",
              "      <td>778</td>\n",
              "    </tr>\n",
              "    <tr>\n",
              "      <th>self-employed</th>\n",
              "      <td>405</td>\n",
              "    </tr>\n",
              "    <tr>\n",
              "      <th>student</th>\n",
              "      <td>360</td>\n",
              "    </tr>\n",
              "    <tr>\n",
              "      <th>unemployed</th>\n",
              "      <td>357</td>\n",
              "    </tr>\n",
              "    <tr>\n",
              "      <th>entrepreneur</th>\n",
              "      <td>328</td>\n",
              "    </tr>\n",
              "    <tr>\n",
              "      <th>housemaid</th>\n",
              "      <td>274</td>\n",
              "    </tr>\n",
              "    <tr>\n",
              "      <th>unknown</th>\n",
              "      <td>70</td>\n",
              "    </tr>\n",
              "  </tbody>\n",
              "</table>\n",
              "</div><br><label><b>dtype:</b> int64</label>"
            ]
          },
          "metadata": {},
          "execution_count": 499
        }
      ],
      "source": [
        "# есть ли в признаке job пропущенные значения? Возможно, они обозначены каким-то специальным словом?\n",
        "df['job'].value_counts()"
      ]
    },
    {
      "cell_type": "markdown",
      "id": "8fcf4fcd",
      "metadata": {
        "id": "8fcf4fcd"
      },
      "source": [
        "### Задание 3"
      ]
    },
    {
      "cell_type": "code",
      "execution_count": 500,
      "id": "3a01be5e",
      "metadata": {
        "id": "3a01be5e"
      },
      "outputs": [],
      "source": [
        "# преобразуйте признак balance таким образом, чтобы он корректно считывался, как вещественное число (float)\n",
        "def balance_to_float(x):\n",
        "    x = str(x)\n",
        "    return float(x.split(',')[0].replace(' ', '').replace('$', ''))\n",
        "\n",
        "df['balance'] = df['balance'].apply(balance_to_float)\n"
      ]
    },
    {
      "cell_type": "markdown",
      "id": "6de63fd7",
      "metadata": {
        "id": "6de63fd7"
      },
      "source": [
        "### Задание 4"
      ]
    },
    {
      "cell_type": "code",
      "execution_count": 501,
      "id": "6a684a63",
      "metadata": {
        "colab": {
          "base_uri": "https://localhost:8080/"
        },
        "id": "6a684a63",
        "outputId": "ab8acd56-b4d0-4696-8a76-7afbe9e1fed5"
      },
      "outputs": [
        {
          "output_type": "stream",
          "name": "stdout",
          "text": [
            "<class 'pandas.core.frame.DataFrame'>\n",
            "RangeIndex: 11162 entries, 0 to 11161\n",
            "Data columns (total 17 columns):\n",
            " #   Column     Non-Null Count  Dtype  \n",
            "---  ------     --------------  -----  \n",
            " 0   age        11162 non-null  int64  \n",
            " 1   job        11162 non-null  object \n",
            " 2   marital    11162 non-null  object \n",
            " 3   education  11162 non-null  object \n",
            " 4   default    11162 non-null  object \n",
            " 5   balance    11162 non-null  float64\n",
            " 6   housing    11162 non-null  object \n",
            " 7   loan       11162 non-null  object \n",
            " 8   contact    11162 non-null  object \n",
            " 9   day        11162 non-null  int64  \n",
            " 10  month      11162 non-null  object \n",
            " 11  duration   11162 non-null  int64  \n",
            " 12  campaign   11162 non-null  int64  \n",
            " 13  pdays      11162 non-null  int64  \n",
            " 14  previous   11162 non-null  int64  \n",
            " 15  poutcome   11162 non-null  object \n",
            " 16  deposit    11162 non-null  object \n",
            "dtypes: float64(1), int64(6), object(10)\n",
            "memory usage: 1.4+ MB\n"
          ]
        }
      ],
      "source": [
        "# обработайте пропуски в признаки balance , заменив их на медианные значения по данному признаку\n",
        "\n",
        "df.loc[df['balance'].isnull(), 'balance'] = df['balance'].median()\n",
        "df.info()\n"
      ]
    },
    {
      "cell_type": "code",
      "source": [
        "df['job'].value_counts()"
      ],
      "metadata": {
        "colab": {
          "base_uri": "https://localhost:8080/",
          "height": 491
        },
        "id": "I5731Kj8f1Ku",
        "outputId": "24a38cdb-a26a-4cd1-85dd-b02e72338cab"
      },
      "id": "I5731Kj8f1Ku",
      "execution_count": 502,
      "outputs": [
        {
          "output_type": "execute_result",
          "data": {
            "text/plain": [
              "job\n",
              "management       2566\n",
              "blue-collar      1944\n",
              "technician       1823\n",
              "admin.           1334\n",
              "services          923\n",
              "retired           778\n",
              "self-employed     405\n",
              "student           360\n",
              "unemployed        357\n",
              "entrepreneur      328\n",
              "housemaid         274\n",
              "unknown            70\n",
              "Name: count, dtype: int64"
            ],
            "text/html": [
              "<div>\n",
              "<style scoped>\n",
              "    .dataframe tbody tr th:only-of-type {\n",
              "        vertical-align: middle;\n",
              "    }\n",
              "\n",
              "    .dataframe tbody tr th {\n",
              "        vertical-align: top;\n",
              "    }\n",
              "\n",
              "    .dataframe thead th {\n",
              "        text-align: right;\n",
              "    }\n",
              "</style>\n",
              "<table border=\"1\" class=\"dataframe\">\n",
              "  <thead>\n",
              "    <tr style=\"text-align: right;\">\n",
              "      <th></th>\n",
              "      <th>count</th>\n",
              "    </tr>\n",
              "    <tr>\n",
              "      <th>job</th>\n",
              "      <th></th>\n",
              "    </tr>\n",
              "  </thead>\n",
              "  <tbody>\n",
              "    <tr>\n",
              "      <th>management</th>\n",
              "      <td>2566</td>\n",
              "    </tr>\n",
              "    <tr>\n",
              "      <th>blue-collar</th>\n",
              "      <td>1944</td>\n",
              "    </tr>\n",
              "    <tr>\n",
              "      <th>technician</th>\n",
              "      <td>1823</td>\n",
              "    </tr>\n",
              "    <tr>\n",
              "      <th>admin.</th>\n",
              "      <td>1334</td>\n",
              "    </tr>\n",
              "    <tr>\n",
              "      <th>services</th>\n",
              "      <td>923</td>\n",
              "    </tr>\n",
              "    <tr>\n",
              "      <th>retired</th>\n",
              "      <td>778</td>\n",
              "    </tr>\n",
              "    <tr>\n",
              "      <th>self-employed</th>\n",
              "      <td>405</td>\n",
              "    </tr>\n",
              "    <tr>\n",
              "      <th>student</th>\n",
              "      <td>360</td>\n",
              "    </tr>\n",
              "    <tr>\n",
              "      <th>unemployed</th>\n",
              "      <td>357</td>\n",
              "    </tr>\n",
              "    <tr>\n",
              "      <th>entrepreneur</th>\n",
              "      <td>328</td>\n",
              "    </tr>\n",
              "    <tr>\n",
              "      <th>housemaid</th>\n",
              "      <td>274</td>\n",
              "    </tr>\n",
              "    <tr>\n",
              "      <th>unknown</th>\n",
              "      <td>70</td>\n",
              "    </tr>\n",
              "  </tbody>\n",
              "</table>\n",
              "</div><br><label><b>dtype:</b> int64</label>"
            ]
          },
          "metadata": {},
          "execution_count": 502
        }
      ]
    },
    {
      "cell_type": "markdown",
      "id": "1097ec42",
      "metadata": {
        "id": "1097ec42"
      },
      "source": [
        "### Задание 5"
      ]
    },
    {
      "cell_type": "code",
      "execution_count": 503,
      "id": "0fa070a6",
      "metadata": {
        "id": "0fa070a6"
      },
      "outputs": [],
      "source": [
        "# обработайте пропуски в категориальных признаках: job и education, заменив их на модальные значения\n",
        "\n",
        "df.loc[df['job'] == 'unknown', 'job'] = df['job'].mode()[0]\n",
        "df.loc[df['education'] == 'unknown', 'education'] = df['education'].mode()[0]\n",
        "\n",
        "# np.round(df[(df['job'] == df['job'].value_counts().reset_index()['job'][0]) & (df['education'] == df['education'].value_counts().reset_index()['education'][0])]['balance'].mean(), 3)\n",
        "\n"
      ]
    },
    {
      "cell_type": "markdown",
      "id": "02af77c6",
      "metadata": {
        "id": "02af77c6"
      },
      "source": [
        "### Задание 6"
      ]
    },
    {
      "cell_type": "code",
      "execution_count": 504,
      "id": "3802cdd9",
      "metadata": {
        "colab": {
          "base_uri": "https://localhost:8080/"
        },
        "id": "3802cdd9",
        "outputId": "5945babb-07cd-4fd8-8eef-a673a1b6af09"
      },
      "outputs": [
        {
          "output_type": "stream",
          "name": "stdout",
          "text": [
            "Outliers count: 1057\n",
            "Cleaned count: 10105\n",
            "Lower bound: -2241.0\n",
            "Upper bound: 4063.0\n"
          ]
        }
      ],
      "source": [
        "# удалите все выбросы для признака balance\n",
        "\n",
        "columns = df.columns\n",
        "\n",
        "def tyuki(df, col):\n",
        "   x = df[col]\n",
        "   q1 = x.quantile(0.25)\n",
        "   q3 = x.quantile(0.75)\n",
        "   iqr = q3 - q1\n",
        "   lower = q1- 1.5*iqr\n",
        "   higher = q3 + 1.5*iqr\n",
        "   outliers = df[(x < (lower)) | (x > (higher))]\n",
        "   cleaned = df[(x >= (lower)) & (x <= (higher))]\n",
        "   return cleaned, outliers, lower, higher\n",
        "\n",
        "\n",
        "cleaned, outliers, lower, higher  = tyuki(df, 'balance')\n",
        "\n",
        "print(\"Outliers count:\", len(outliers))\n",
        "print(\"Cleaned count:\", len(cleaned))\n",
        "print(\"Lower bound:\", lower)\n",
        "print(\"Upper bound:\", higher)\n",
        "\n",
        "df = cleaned\n",
        "\n",
        "# df = pd.DataFrame(cleaned, columns=columns)\n",
        "# df\n"
      ]
    },
    {
      "cell_type": "markdown",
      "id": "5d22b8cd",
      "metadata": {
        "id": "5d22b8cd"
      },
      "source": [
        "## Часть 2:  Разведывательный анализ"
      ]
    },
    {
      "cell_type": "markdown",
      "id": "21e1f083",
      "metadata": {
        "id": "21e1f083"
      },
      "source": [
        "### Задание 1"
      ]
    },
    {
      "cell_type": "code",
      "execution_count": 505,
      "id": "6d0cd3a8",
      "metadata": {
        "colab": {
          "base_uri": "https://localhost:8080/",
          "height": 1000
        },
        "id": "6d0cd3a8",
        "outputId": "f848460d-d57c-4e98-fd81-c15ba645987d"
      },
      "outputs": [
        {
          "output_type": "display_data",
          "data": {
            "text/plain": [
              "<Figure size 1500x1600 with 10 Axes>"
            ],
            "image/png": "[encoded data removed]"
          },
          "metadata": {}
        }
      ],
      "source": [
        "# изучите соотношение классов в ваших данных на предмет несбалансированности, проиллюстрируйте результат\n",
        "objects = [x for x in df.columns if df[x].dtype == 'object']\n",
        "n_cols = 3\n",
        "n_rows = (len(objects) + n_cols - 1) // n_cols  # округление вверх\n",
        "\n",
        "fig, axes = plt.subplots(n_rows, n_cols, figsize=(5 * n_cols, 4 * n_rows))\n",
        "axes = axes.flatten()  # чтобы удобно итерировать\n",
        "\n",
        "for i, col in enumerate(objects):\n",
        "    sns.countplot(x=col, data=df, ax=axes[i])\n",
        "    axes[i].set_title(col)\n",
        "    axes[i].tick_params(axis='x', rotation=45)\n",
        "\n",
        "# Отключим пустые графики (если столбцов < n_rows * n_cols)\n",
        "for j in range(len(objects), len(axes)):\n",
        "    fig.delaxes(axes[j])\n",
        "\n",
        "plt.tight_layout()\n",
        "plt.show()"
      ]
    },
    {
      "cell_type": "markdown",
      "id": "426b1d40",
      "metadata": {
        "id": "426b1d40"
      },
      "source": [
        "### Задания 2 и 3"
      ]
    },
    {
      "cell_type": "code",
      "execution_count": 509,
      "id": "603cdb3c",
      "metadata": {
        "id": "603cdb3c"
      },
      "outputs": [],
      "source": [
        "#рассчитайте описательные статистики для количественных переменных, проинтерпретируйте результат\n",
        "#ваш код"
      ]
    },
    {
      "cell_type": "markdown",
      "id": "821dc39e",
      "metadata": {
        "id": "821dc39e"
      },
      "source": [
        "### Задания 4 и 5"
      ]
    },
    {
      "cell_type": "code",
      "execution_count": 510,
      "id": "bf45afc9",
      "metadata": {
        "id": "bf45afc9"
      },
      "outputs": [],
      "source": [
        "#рассчитайте описательные статистики для категориальных переменных, проинтерпретируйте результат\n",
        "#ваш код\n",
        "#постройте визуализации, иллюстрирующие результаты"
      ]
    },
    {
      "cell_type": "markdown",
      "id": "472cff5b",
      "metadata": {
        "id": "472cff5b"
      },
      "source": [
        "### Задание 6"
      ]
    },
    {
      "cell_type": "code",
      "execution_count": 511,
      "id": "2d640ce1",
      "metadata": {
        "colab": {
          "base_uri": "https://localhost:8080/",
          "height": 366
        },
        "id": "2d640ce1",
        "outputId": "abf6cde7-0342-40d9-e41c-b0a383665d0f"
      },
      "outputs": [
        {
          "output_type": "execute_result",
          "data": {
            "text/plain": [
              "poutcome  deposit\n",
              "failure   no          562\n",
              "          yes         547\n",
              "other     yes         265\n",
              "          no          216\n",
              "success   yes         861\n",
              "          no           84\n",
              "unknown   no         4562\n",
              "          yes        3008\n",
              "Name: count, dtype: int64"
            ],
            "text/html": [
              "<div>\n",
              "<style scoped>\n",
              "    .dataframe tbody tr th:only-of-type {\n",
              "        vertical-align: middle;\n",
              "    }\n",
              "\n",
              "    .dataframe tbody tr th {\n",
              "        vertical-align: top;\n",
              "    }\n",
              "\n",
              "    .dataframe thead th {\n",
              "        text-align: right;\n",
              "    }\n",
              "</style>\n",
              "<table border=\"1\" class=\"dataframe\">\n",
              "  <thead>\n",
              "    <tr style=\"text-align: right;\">\n",
              "      <th></th>\n",
              "      <th></th>\n",
              "      <th>count</th>\n",
              "    </tr>\n",
              "    <tr>\n",
              "      <th>poutcome</th>\n",
              "      <th>deposit</th>\n",
              "      <th></th>\n",
              "    </tr>\n",
              "  </thead>\n",
              "  <tbody>\n",
              "    <tr>\n",
              "      <th rowspan=\"2\" valign=\"top\">failure</th>\n",
              "      <th>no</th>\n",
              "      <td>562</td>\n",
              "    </tr>\n",
              "    <tr>\n",
              "      <th>yes</th>\n",
              "      <td>547</td>\n",
              "    </tr>\n",
              "    <tr>\n",
              "      <th rowspan=\"2\" valign=\"top\">other</th>\n",
              "      <th>yes</th>\n",
              "      <td>265</td>\n",
              "    </tr>\n",
              "    <tr>\n",
              "      <th>no</th>\n",
              "      <td>216</td>\n",
              "    </tr>\n",
              "    <tr>\n",
              "      <th rowspan=\"2\" valign=\"top\">success</th>\n",
              "      <th>yes</th>\n",
              "      <td>861</td>\n",
              "    </tr>\n",
              "    <tr>\n",
              "      <th>no</th>\n",
              "      <td>84</td>\n",
              "    </tr>\n",
              "    <tr>\n",
              "      <th rowspan=\"2\" valign=\"top\">unknown</th>\n",
              "      <th>no</th>\n",
              "      <td>4562</td>\n",
              "    </tr>\n",
              "    <tr>\n",
              "      <th>yes</th>\n",
              "      <td>3008</td>\n",
              "    </tr>\n",
              "  </tbody>\n",
              "</table>\n",
              "</div><br><label><b>dtype:</b> int64</label>"
            ]
          },
          "metadata": {},
          "execution_count": 511
        }
      ],
      "source": [
        "# Узнайте, для какого статуса предыдущей маркетинговой кампании успех в текущей превалирует над количеством неудач.\n",
        "df.groupby('poutcome')['deposit'].value_counts()"
      ]
    },
    {
      "cell_type": "markdown",
      "id": "9c32e3aa",
      "metadata": {
        "id": "9c32e3aa"
      },
      "source": [
        "### Задание 7"
      ]
    },
    {
      "cell_type": "code",
      "execution_count": 512,
      "id": "df437ec3",
      "metadata": {
        "colab": {
          "base_uri": "https://localhost:8080/",
          "height": 867
        },
        "id": "df437ec3",
        "outputId": "c82c2df3-c24b-44d9-85bd-0dd3a59dc22d"
      },
      "outputs": [
        {
          "output_type": "execute_result",
          "data": {
            "text/plain": [
              "month  deposit\n",
              "apr    yes         513\n",
              "       no          317\n",
              "aug    no          775\n",
              "       yes         610\n",
              "dec    yes          84\n",
              "       no            9\n",
              "feb    yes         386\n",
              "       no          323\n",
              "jan    no          194\n",
              "       yes         125\n",
              "jul    no          836\n",
              "       yes         582\n",
              "jun    no          606\n",
              "       yes         498\n",
              "mar    yes         213\n",
              "       no           24\n",
              "may    no         1776\n",
              "       yes         841\n",
              "nov    no          456\n",
              "       yes         324\n",
              "oct    yes         273\n",
              "       no           62\n",
              "sep    yes         232\n",
              "       no           46\n",
              "Name: count, dtype: int64"
            ],
            "text/html": [
              "<div>\n",
              "<style scoped>\n",
              "    .dataframe tbody tr th:only-of-type {\n",
              "        vertical-align: middle;\n",
              "    }\n",
              "\n",
              "    .dataframe tbody tr th {\n",
              "        vertical-align: top;\n",
              "    }\n",
              "\n",
              "    .dataframe thead th {\n",
              "        text-align: right;\n",
              "    }\n",
              "</style>\n",
              "<table border=\"1\" class=\"dataframe\">\n",
              "  <thead>\n",
              "    <tr style=\"text-align: right;\">\n",
              "      <th></th>\n",
              "      <th></th>\n",
              "      <th>count</th>\n",
              "    </tr>\n",
              "    <tr>\n",
              "      <th>month</th>\n",
              "      <th>deposit</th>\n",
              "      <th></th>\n",
              "    </tr>\n",
              "  </thead>\n",
              "  <tbody>\n",
              "    <tr>\n",
              "      <th rowspan=\"2\" valign=\"top\">apr</th>\n",
              "      <th>yes</th>\n",
              "      <td>513</td>\n",
              "    </tr>\n",
              "    <tr>\n",
              "      <th>no</th>\n",
              "      <td>317</td>\n",
              "    </tr>\n",
              "    <tr>\n",
              "      <th rowspan=\"2\" valign=\"top\">aug</th>\n",
              "      <th>no</th>\n",
              "      <td>775</td>\n",
              "    </tr>\n",
              "    <tr>\n",
              "      <th>yes</th>\n",
              "      <td>610</td>\n",
              "    </tr>\n",
              "    <tr>\n",
              "      <th rowspan=\"2\" valign=\"top\">dec</th>\n",
              "      <th>yes</th>\n",
              "      <td>84</td>\n",
              "    </tr>\n",
              "    <tr>\n",
              "      <th>no</th>\n",
              "      <td>9</td>\n",
              "    </tr>\n",
              "    <tr>\n",
              "      <th rowspan=\"2\" valign=\"top\">feb</th>\n",
              "      <th>yes</th>\n",
              "      <td>386</td>\n",
              "    </tr>\n",
              "    <tr>\n",
              "      <th>no</th>\n",
              "      <td>323</td>\n",
              "    </tr>\n",
              "    <tr>\n",
              "      <th rowspan=\"2\" valign=\"top\">jan</th>\n",
              "      <th>no</th>\n",
              "      <td>194</td>\n",
              "    </tr>\n",
              "    <tr>\n",
              "      <th>yes</th>\n",
              "      <td>125</td>\n",
              "    </tr>\n",
              "    <tr>\n",
              "      <th rowspan=\"2\" valign=\"top\">jul</th>\n",
              "      <th>no</th>\n",
              "      <td>836</td>\n",
              "    </tr>\n",
              "    <tr>\n",
              "      <th>yes</th>\n",
              "      <td>582</td>\n",
              "    </tr>\n",
              "    <tr>\n",
              "      <th rowspan=\"2\" valign=\"top\">jun</th>\n",
              "      <th>no</th>\n",
              "      <td>606</td>\n",
              "    </tr>\n",
              "    <tr>\n",
              "      <th>yes</th>\n",
              "      <td>498</td>\n",
              "    </tr>\n",
              "    <tr>\n",
              "      <th rowspan=\"2\" valign=\"top\">mar</th>\n",
              "      <th>yes</th>\n",
              "      <td>213</td>\n",
              "    </tr>\n",
              "    <tr>\n",
              "      <th>no</th>\n",
              "      <td>24</td>\n",
              "    </tr>\n",
              "    <tr>\n",
              "      <th rowspan=\"2\" valign=\"top\">may</th>\n",
              "      <th>no</th>\n",
              "      <td>1776</td>\n",
              "    </tr>\n",
              "    <tr>\n",
              "      <th>yes</th>\n",
              "      <td>841</td>\n",
              "    </tr>\n",
              "    <tr>\n",
              "      <th rowspan=\"2\" valign=\"top\">nov</th>\n",
              "      <th>no</th>\n",
              "      <td>456</td>\n",
              "    </tr>\n",
              "    <tr>\n",
              "      <th>yes</th>\n",
              "      <td>324</td>\n",
              "    </tr>\n",
              "    <tr>\n",
              "      <th rowspan=\"2\" valign=\"top\">oct</th>\n",
              "      <th>yes</th>\n",
              "      <td>273</td>\n",
              "    </tr>\n",
              "    <tr>\n",
              "      <th>no</th>\n",
              "      <td>62</td>\n",
              "    </tr>\n",
              "    <tr>\n",
              "      <th rowspan=\"2\" valign=\"top\">sep</th>\n",
              "      <th>yes</th>\n",
              "      <td>232</td>\n",
              "    </tr>\n",
              "    <tr>\n",
              "      <th>no</th>\n",
              "      <td>46</td>\n",
              "    </tr>\n",
              "  </tbody>\n",
              "</table>\n",
              "</div><br><label><b>dtype:</b> int64</label>"
            ]
          },
          "metadata": {},
          "execution_count": 512
        }
      ],
      "source": [
        "# узнайте, в каком месяце чаще всего отказывались от предложения открыть депозит\n",
        "# ваш код\n",
        "\n",
        "df.groupby('month')['deposit'].value_counts()"
      ]
    },
    {
      "cell_type": "markdown",
      "id": "5f20762f",
      "metadata": {
        "id": "5f20762f"
      },
      "source": [
        "### Задание 8"
      ]
    },
    {
      "cell_type": "code",
      "execution_count": 540,
      "id": "95d56f1b",
      "metadata": {
        "colab": {
          "base_uri": "https://localhost:8080/",
          "height": 474
        },
        "id": "95d56f1b",
        "outputId": "9b08f8e6-bac9-4e1f-906c-5c16debd8f7d"
      },
      "outputs": [
        {
          "output_type": "display_data",
          "data": {
            "text/plain": [
              "<Figure size 640x480 with 1 Axes>"
            ],
            "image/png": "[encoded data removed]"
          },
          "metadata": {}
        }
      ],
      "source": [
        "# создайте возрастные группы и определите, в каких группах более склонны открывать депозит, чем отказываться от предложения\n",
        "\n",
        "\n",
        "bins = [0, 30, 40, 50, 60, float('inf')]\n",
        "labels = ['<30', '30-40', '40-50', '50-60', '60+']\n",
        "\n",
        "df['age_group'] = pd.cut(df['age'], bins=bins, labels=labels, right=False)\n",
        "\n",
        "\n",
        "sns.countplot(x='age_group', hue='deposit', data=df)\n",
        "plt.tick_params(axis='x', rotation=45)\n",
        "plt.show()"
      ]
    },
    {
      "cell_type": "markdown",
      "id": "0841c685",
      "metadata": {
        "id": "0841c685"
      },
      "source": [
        "### Задания 9 и 10"
      ]
    },
    {
      "cell_type": "code",
      "execution_count": 541,
      "id": "0d84a9e1",
      "metadata": {
        "colab": {
          "base_uri": "https://localhost:8080/",
          "height": 488
        },
        "id": "0d84a9e1",
        "outputId": "5308ba0f-7565-4544-d16a-814ba505c305"
      },
      "outputs": [
        {
          "output_type": "display_data",
          "data": {
            "text/plain": [
              "<Figure size 640x480 with 1 Axes>"
            ],
            "image/png": "[encoded data removed]"
          },
          "metadata": {}
        }
      ],
      "source": [
        "# постройте визуализации для открывших и неоткрывших депозит в зависимости от семейного статуса\n",
        "\n",
        "sns.countplot(x='marital', hue='deposit', data=df)\n",
        "plt.tick_params(axis='x', rotation=45)\n",
        "plt.show()"
      ]
    },
    {
      "cell_type": "code",
      "execution_count": 542,
      "id": "16333967",
      "metadata": {
        "colab": {
          "base_uri": "https://localhost:8080/",
          "height": 496
        },
        "id": "16333967",
        "outputId": "4726278a-4327-49cb-ea19-500f2b199fe6"
      },
      "outputs": [
        {
          "output_type": "display_data",
          "data": {
            "text/plain": [
              "<Figure size 640x480 with 1 Axes>"
            ],
            "image/png": "[encoded data removed]"
          },
          "metadata": {}
        }
      ],
      "source": [
        "# постройте визуализации для открывших и неоткрывших депозит в зависимости от образования\n",
        "\n",
        "sns.countplot(x='education', hue='deposit', data=df)\n",
        "plt.tick_params(axis='x', rotation=45)\n",
        "plt.show()"
      ]
    },
    {
      "cell_type": "code",
      "execution_count": 543,
      "id": "738224f8",
      "metadata": {
        "colab": {
          "base_uri": "https://localhost:8080/",
          "height": 514
        },
        "id": "738224f8",
        "outputId": "44704c9c-2717-4a4e-a7e2-87c92f8f9274"
      },
      "outputs": [
        {
          "output_type": "display_data",
          "data": {
            "text/plain": [
              "<Figure size 640x480 with 1 Axes>"
            ],
            "image/png": "[encoded data removed]"
          },
          "metadata": {}
        }
      ],
      "source": [
        "# постройте визуализации для открывших и неоткрывших депозит в зависимости от вида профессиональной занятости\n",
        "sns.countplot(x='job', hue='deposit', data=df)\n",
        "plt.tick_params(axis='x', rotation=45)\n",
        "plt.show()"
      ]
    },
    {
      "cell_type": "markdown",
      "id": "a521e204",
      "metadata": {
        "id": "a521e204"
      },
      "source": [
        "### Задание 11"
      ]
    },
    {
      "cell_type": "code",
      "execution_count": 517,
      "id": "35ab0413",
      "metadata": {
        "id": "35ab0413"
      },
      "outputs": [],
      "source": [
        "# постройте сводную таблицу, чтобы определить люди с каким образованием и семейным статусом наиболее многочисленны\n",
        "#(если рассматривать тех, кто открыл депозит)"
      ]
    },
    {
      "cell_type": "markdown",
      "id": "dfd805c0",
      "metadata": {
        "id": "dfd805c0"
      },
      "source": [
        "## Часть 3: преобразование данных"
      ]
    },
    {
      "cell_type": "markdown",
      "id": "e44e715b",
      "metadata": {
        "id": "e44e715b"
      },
      "source": [
        "### Задание 1"
      ]
    },
    {
      "cell_type": "code",
      "execution_count": 518,
      "id": "1e815773",
      "metadata": {
        "id": "1e815773"
      },
      "outputs": [],
      "source": [
        "# преобразуйте уровни образования"
      ]
    },
    {
      "cell_type": "markdown",
      "id": "8c93e73d",
      "metadata": {
        "id": "8c93e73d"
      },
      "source": [
        "### Задания 2 и 3"
      ]
    },
    {
      "cell_type": "code",
      "execution_count": 519,
      "id": "626a5762",
      "metadata": {
        "id": "626a5762"
      },
      "outputs": [],
      "source": [
        "# преобразуйте бинарные переменные в представление из нулей и единиц"
      ]
    },
    {
      "cell_type": "markdown",
      "id": "c40dc02a",
      "metadata": {
        "id": "c40dc02a"
      },
      "source": [
        "### Задание 4"
      ]
    },
    {
      "cell_type": "code",
      "execution_count": 520,
      "id": "b996883f",
      "metadata": {
        "id": "b996883f"
      },
      "outputs": [],
      "source": [
        "# создайте дамми-переменные"
      ]
    },
    {
      "cell_type": "markdown",
      "id": "9a23e318",
      "metadata": {
        "id": "9a23e318"
      },
      "source": [
        "### Задания 5 и 6"
      ]
    },
    {
      "cell_type": "code",
      "execution_count": 521,
      "id": "1c884c1a",
      "metadata": {
        "id": "1c884c1a"
      },
      "outputs": [],
      "source": [
        "# постройте корреляционную матрицу и оцените данные на предмет наличия мультиколлинеарности"
      ]
    },
    {
      "cell_type": "markdown",
      "id": "b5b4c1a5",
      "metadata": {
        "id": "b5b4c1a5"
      },
      "source": [
        "### Задания 7 и 8"
      ]
    },
    {
      "cell_type": "code",
      "execution_count": 522,
      "id": "79f3e432",
      "metadata": {
        "id": "79f3e432"
      },
      "outputs": [],
      "source": [
        "X = df.drop(['deposit'], axis=1)\n",
        "y = df['deposit']\n",
        "\n",
        "X_train, X_test, y_train, y_test = train_test_split(X, y, stratify=y, random_state = 42, test_size = 0.33)"
      ]
    },
    {
      "cell_type": "code",
      "execution_count": 523,
      "id": "e3a097a4",
      "metadata": {
        "id": "e3a097a4"
      },
      "outputs": [],
      "source": [
        "# рассчитайте необходимые показатели"
      ]
    },
    {
      "cell_type": "markdown",
      "id": "2e381a4f",
      "metadata": {
        "id": "2e381a4f"
      },
      "source": [
        "### Задание 9"
      ]
    },
    {
      "cell_type": "code",
      "execution_count": 524,
      "id": "0f6e03e0",
      "metadata": {
        "id": "0f6e03e0"
      },
      "outputs": [],
      "source": [
        "# с помощью SelectKBest отберите 15 наиболее подходящих признаков"
      ]
    },
    {
      "cell_type": "markdown",
      "id": "60132ef3",
      "metadata": {
        "id": "60132ef3"
      },
      "source": [
        "### Задание 10"
      ]
    },
    {
      "cell_type": "code",
      "execution_count": 525,
      "id": "e91b06f3",
      "metadata": {
        "id": "e91b06f3"
      },
      "outputs": [],
      "source": [
        "# нормализуйте данные с помощью minmaxsxaler"
      ]
    },
    {
      "cell_type": "markdown",
      "id": "0894c632",
      "metadata": {
        "id": "0894c632"
      },
      "source": [
        "# Часть 4: Решение задачи классификации: логистическая регрессия и решающие деревья"
      ]
    },
    {
      "cell_type": "markdown",
      "id": "41b8ff06",
      "metadata": {
        "id": "41b8ff06"
      },
      "source": [
        "### Задание 1"
      ]
    },
    {
      "cell_type": "code",
      "execution_count": 526,
      "id": "8acc0166",
      "metadata": {
        "id": "8acc0166"
      },
      "outputs": [],
      "source": [
        "# обучите логистическую регрессию и рассчитайте метрики качества"
      ]
    },
    {
      "cell_type": "markdown",
      "id": "29b7e0ba",
      "metadata": {
        "id": "29b7e0ba"
      },
      "source": [
        "### Задания 2,3,4"
      ]
    },
    {
      "cell_type": "code",
      "execution_count": 527,
      "id": "c91a588b",
      "metadata": {
        "id": "c91a588b"
      },
      "outputs": [],
      "source": [
        "# обучите решающие деревья, настройте максимальную глубину"
      ]
    },
    {
      "cell_type": "markdown",
      "id": "fe823c18",
      "metadata": {
        "id": "fe823c18"
      },
      "source": [
        "### Задание 5"
      ]
    },
    {
      "cell_type": "code",
      "execution_count": 528,
      "id": "63574943",
      "metadata": {
        "id": "63574943"
      },
      "outputs": [],
      "source": [
        "# подберите оптимальные параметры с помощью gridsearch"
      ]
    },
    {
      "cell_type": "markdown",
      "id": "ed0fc831",
      "metadata": {
        "id": "ed0fc831"
      },
      "source": [
        "# Часть 5: Решение задачи классификации: ансамбли моделей и построение прогноза"
      ]
    },
    {
      "cell_type": "markdown",
      "id": "f9e36ff2",
      "metadata": {
        "id": "f9e36ff2"
      },
      "source": [
        "### Задание 1"
      ]
    },
    {
      "cell_type": "code",
      "execution_count": 529,
      "id": "e708e3fe",
      "metadata": {
        "id": "e708e3fe"
      },
      "outputs": [],
      "source": [
        "# обучите на ваших данных случайный лес"
      ]
    },
    {
      "cell_type": "markdown",
      "id": "71d7b13d",
      "metadata": {
        "id": "71d7b13d"
      },
      "source": [
        "### Задания 2 и 3"
      ]
    },
    {
      "cell_type": "code",
      "execution_count": 530,
      "id": "99f12dfe",
      "metadata": {
        "id": "99f12dfe"
      },
      "outputs": [],
      "source": [
        "# используйте для классификации градиентный бустинг и сравните качество со случайным лесом"
      ]
    },
    {
      "cell_type": "markdown",
      "id": "b08718ae",
      "metadata": {
        "id": "b08718ae"
      },
      "source": [
        "### Задание 4"
      ]
    },
    {
      "cell_type": "code",
      "execution_count": 531,
      "id": "0bd42fb0",
      "metadata": {
        "id": "0bd42fb0"
      },
      "outputs": [],
      "source": [
        "# объедините уже известные вам алгоритмы с помощью стекинга"
      ]
    },
    {
      "cell_type": "markdown",
      "id": "6247a5fb",
      "metadata": {
        "id": "6247a5fb"
      },
      "source": [
        "### Задание 5"
      ]
    },
    {
      "cell_type": "code",
      "execution_count": 532,
      "id": "35de769c",
      "metadata": {
        "id": "35de769c"
      },
      "outputs": [],
      "source": [
        "# оцените, какие признаки демонстрируют наибольшую  важность в модели градиентного бустинга"
      ]
    },
    {
      "cell_type": "markdown",
      "id": "96974dda",
      "metadata": {
        "id": "96974dda"
      },
      "source": [
        "### Задания 6,7,8"
      ]
    },
    {
      "cell_type": "code",
      "execution_count": 533,
      "id": "c48e29e9",
      "metadata": {
        "id": "c48e29e9"
      },
      "outputs": [],
      "source": [
        "# реализуйте оптимизацию гиперпараметров с помощью Optuna"
      ]
    }
  ],
  "metadata": {
    "kernelspec": {
      "display_name": "base",
      "language": "python",
      "name": "python3"
    },
    "language_info": {
      "codemirror_mode": {
        "name": "ipython",
        "version": 3
      },
      "file_extension": ".py",
      "mimetype": "text/x-python",
      "name": "python",
      "nbconvert_exporter": "python",
      "pygments_lexer": "ipython3",
      "version": "3.11.11"
    },
    "colab": {
      "provenance": []
    }
  },
  "nbformat": 4,
  "nbformat_minor": 5
}